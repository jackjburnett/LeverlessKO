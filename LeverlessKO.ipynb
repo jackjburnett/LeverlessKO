{
 "cells": [
  {
   "metadata": {
    "ExecuteTime": {
     "end_time": "2024-09-18T15:19:41.928308Z",
     "start_time": "2024-09-18T15:19:41.921353Z"
    }
   },
   "cell_type": "code",
   "source": [
    "# Uncomment and run this cell if you don't have DEAP or matplotlib installed (or haven't ran requirements.txt yet).\n",
    "# !pip install deap matplotlib matplotlib"
   ],
   "id": "70d226cc85a09b",
   "outputs": [],
   "execution_count": 1
  },
  {
   "metadata": {
    "ExecuteTime": {
     "end_time": "2024-09-18T15:19:42.181510Z",
     "start_time": "2024-09-18T15:19:41.930318Z"
    }
   },
   "cell_type": "code",
   "source": [
    "# Import necessary libraries\n",
    "import random\n",
    "\n",
    "from deap import base, creator, tools\n",
    "\n",
    "import data_store.street_fighter.letters as letters"
   ],
   "id": "21a3d19ba1b694a2",
   "outputs": [],
   "execution_count": 2
  },
  {
   "metadata": {
    "ExecuteTime": {
     "end_time": "2024-09-18T15:19:42.186774Z",
     "start_time": "2024-09-18T15:19:42.182516Z"
    }
   },
   "cell_type": "code",
   "source": [
    "# Set letters to the desired value\n",
    "LETTERS = letters.SIMPLE_LETTERS"
   ],
   "id": "7d8b3b6d7b278806",
   "outputs": [],
   "execution_count": 3
  },
  {
   "metadata": {
    "ExecuteTime": {
     "end_time": "2024-09-18T15:19:42.197495Z",
     "start_time": "2024-09-18T15:19:42.187781Z"
    }
   },
   "cell_type": "code",
   "source": [
    "# Define fitness function\n",
    "def calculate_distance(layout, frequencies):\n",
    "    positions = {letter: idx for idx, letter in enumerate(layout)}\n",
    "    total_distance = 0\n",
    "    for (letter1, freq1) in frequencies.items():\n",
    "        for (letter2, freq2) in frequencies.items():\n",
    "            if letter1 != letter2:\n",
    "                dist = abs(positions[letter1] - positions[letter2])  # Linear distance\n",
    "                total_distance += freq1 * freq2 * dist\n",
    "    return total_distance,\n"
   ],
   "id": "4c5ff5183c78b446",
   "outputs": [],
   "execution_count": 4
  },
  {
   "metadata": {
    "ExecuteTime": {
     "end_time": "2024-09-18T15:19:42.206992Z",
     "start_time": "2024-09-18T15:19:42.199501Z"
    }
   },
   "cell_type": "code",
   "source": [
    "# Create the Optimization Problem\n",
    "creator.create(\"FitnessMin\", base.Fitness, weights=(-1.0,))\n",
    "creator.create(\"Individual\", list, fitness=creator.FitnessMin)\n"
   ],
   "id": "172d40c162a88578",
   "outputs": [],
   "execution_count": 5
  },
  {
   "metadata": {
    "ExecuteTime": {
     "end_time": "2024-09-18T15:19:42.217013Z",
     "start_time": "2024-09-18T15:19:42.207997Z"
    }
   },
   "cell_type": "code",
   "source": [
    "# Define a Custom Crossover Function\n",
    "def cxOnePoint(ind1, ind2):\n",
    "    if len(ind1) != len(ind2):\n",
    "        raise ValueError(\"Individuals must have the same length.\")\n",
    "    \n",
    "    size = len(ind1)\n",
    "    cxpoint = random.randint(1, size - 1)  # Ensure cxpoint is within range\n",
    "\n",
    "    ind1[cxpoint:], ind2[cxpoint:] = ind2[cxpoint:], ind1[cxpoint:]\n",
    "    return ind1, ind2\n"
   ],
   "id": "cbd6d951894705b",
   "outputs": [],
   "execution_count": 6
  },
  {
   "metadata": {
    "ExecuteTime": {
     "end_time": "2024-09-18T15:19:42.227049Z",
     "start_time": "2024-09-18T15:19:42.218017Z"
    }
   },
   "cell_type": "code",
   "source": [
    "# Define a Custom Mutation Function\n",
    "def mutShuffleIndexes(individual, indpb):\n",
    "    \"\"\"Shuffle mutation for list-based individuals.\"\"\"\n",
    "    size = len(individual)\n",
    "    for i in range(size):\n",
    "        if random.random() < indpb:\n",
    "            j = random.randint(0, size - 1)\n",
    "            individual[i], individual[j] = individual[j], individual[i]\n",
    "    return individual,"
   ],
   "id": "6c4cadc7be12241c",
   "outputs": [],
   "execution_count": 7
  },
  {
   "metadata": {
    "ExecuteTime": {
     "end_time": "2024-09-18T15:19:42.236692Z",
     "start_time": "2024-09-18T15:19:42.228057Z"
    }
   },
   "cell_type": "code",
   "source": [
    "# Initialize Individuals and Population\n",
    "def init_individual():\n",
    "    # Initialize an individual with a random permutation of the letters\n",
    "    layout = LETTERS[:]\n",
    "    random.shuffle(layout)\n",
    "    return creator.Individual(layout)\n",
    "\n",
    "toolbox = base.Toolbox()\n",
    "toolbox.register(\"individual\", tools.initIterate, creator.Individual, lambda: random.sample(LETTERS, len(LETTERS)))\n",
    "toolbox.register(\"population\", tools.initRepeat, list, toolbox.individual)"
   ],
   "id": "53d703cc9326fb73",
   "outputs": [],
   "execution_count": 8
  },
  {
   "metadata": {
    "ExecuteTime": {
     "end_time": "2024-09-18T15:19:42.246799Z",
     "start_time": "2024-09-18T15:19:42.237700Z"
    }
   },
   "cell_type": "code",
   "source": [
    "# Define the Genetic Operators\n",
    "toolbox.register(\"evaluate\", calculate_distance, frequencies={\n",
    "    \"→\": 20, \"←\": 15, \"↑\": 10, \"↓\": 10, \"LP\": 10, \"MP\": 15, \"HP\": 10, \"LK\": 5, \"MK\": 5, \"HK\": 5\n",
    "})\n",
    "toolbox.register(\"mate\", tools.cxOnePoint)\n",
    "toolbox.register(\"mutate\", tools.mutShuffleIndexes, indpb=0.2)\n",
    "toolbox.register(\"select\", tools.selTournament, tournsize=3)"
   ],
   "id": "127bee628da02c5",
   "outputs": [],
   "execution_count": 9
  },
  {
   "metadata": {
    "ExecuteTime": {
     "end_time": "2024-09-18T15:19:42.256698Z",
     "start_time": "2024-09-18T15:19:42.247806Z"
    }
   },
   "cell_type": "code",
   "source": [
    "# Evaluate Invalid Fitness\n",
    "def evaluate_population(population, toolbox):\n",
    "    for ind in population:\n",
    "        if not ind.fitness.valid or len(ind.fitness.values) == 0:\n",
    "            ind.fitness.values = toolbox.evaluate(ind)\n",
    "            if not isinstance(ind.fitness.values, tuple) or len(ind.fitness.values) == 0:\n",
    "                print(f\"Warning: Fitness values for individual {ind} are invalid or empty\")\n",
    "    return population\n"
   ],
   "id": "136624f185a238a5",
   "outputs": [],
   "execution_count": 10
  },
  {
   "metadata": {
    "ExecuteTime": {
     "end_time": "2024-09-18T15:19:42.266469Z",
     "start_time": "2024-09-18T15:19:42.257705Z"
    }
   },
   "cell_type": "code",
   "source": [
    "# Debug Fitness Values\n",
    "def debug_fitness(population):\n",
    "    for ind in population:\n",
    "        if not isinstance(ind.fitness.values, tuple):\n",
    "            print(f\"Warning: Fitness values for individual {ind} are not a tuple\")\n",
    "        if len(ind.fitness.values) == 0:\n",
    "            print(f\"Warning: Fitness values for individual {ind} are empty\")\n",
    "        else:\n",
    "            print(f\"Individual: {ind}, Fitness: {ind.fitness.values}\")\n"
   ],
   "id": "20a24786d051f3fe",
   "outputs": [],
   "execution_count": 11
  },
  {
   "metadata": {
    "ExecuteTime": {
     "end_time": "2024-09-18T15:19:42.277959Z",
     "start_time": "2024-09-18T15:19:42.267474Z"
    }
   },
   "cell_type": "code",
   "source": "",
   "id": "2ab9b599d47009c4",
   "outputs": [],
   "execution_count": 12
  },
  {
   "metadata": {
    "ExecuteTime": {
     "end_time": "2024-09-18T15:19:55.761223Z",
     "start_time": "2024-09-18T15:19:55.752521Z"
    }
   },
   "cell_type": "code",
   "source": [
    "def main():\n",
    "    # Set DEAP parameters\n",
    "    population = toolbox.population(n=100)\n",
    "    NGEN = 50\n",
    "    CXPB, MUTPB = 0.5, 0.2\n",
    "    \n",
    "    print(\"Starting the optimization\")\n",
    "    for gen in range(NGEN):\n",
    "        # Select the next generation individuals\n",
    "        offspring = toolbox.select(population, len(population))\n",
    "        offspring = list(map(toolbox.clone, offspring))\n",
    "\n",
    "        # Apply crossover\n",
    "        for child1, child2 in zip(offspring[::2], offspring[1::2]):\n",
    "            if random.random() < CXPB:\n",
    "                try:\n",
    "                    toolbox.mate(child1, child2)\n",
    "                except IndexError as e:\n",
    "                    print(f\"IndexError during mating: {e}\")\n",
    "                    print(f\"Child1: {child1}, Child2: {child2}\")\n",
    "                    continue  # Skip this crossover operation\n",
    "                del child1.fitness.values\n",
    "                del child2.fitness.values\n",
    "\n",
    "        # Apply mutation\n",
    "        for mutant in offspring:\n",
    "            if random.random() < MUTPB:\n",
    "                try:\n",
    "                    toolbox.mutate(mutant)\n",
    "                except IndexError as e:\n",
    "                    print(f\"IndexError during mutation: {e}\")\n",
    "                    print(f\"Mutant: {mutant}\")\n",
    "                    continue  # Skip this mutation operation\n",
    "                del mutant.fitness.values\n",
    "\n",
    "        # Evaluate the fitness of individuals with invalid fitness\n",
    "        population = evaluate_population(population, toolbox)\n",
    "        debug_fitness(population)\n",
    "\n",
    "        # Update the population\n",
    "        population[:] = toolbox.select(population + offspring, len(population))\n",
    "\n",
    "        # Print statistics\n",
    "        try:\n",
    "            fits = [ind.fitness.values[0] for ind in population]\n",
    "        except IndexError as e:\n",
    "            print(f\"IndexError while accessing fitness values: {e}\")\n",
    "            print(f\"Population fitness values: {[ind.fitness.values for ind in population]}\")\n",
    "            continue  # Skip this generation\n",
    "\n",
    "        length = len(population)\n",
    "        mean = sum(fits) / length\n",
    "        sum2 = sum(x*x for x in fits)\n",
    "        std = abs(sum2 / length - mean**2)**0.5\n",
    "\n",
    "        print(f\"Generation {gen}: Min {min(fits)} | Max {max(fits)} | Avg {mean} | Std {std}\")\n",
    "\n",
    "    return population"
   ],
   "id": "bb3e20ab9c4af8a5",
   "outputs": [],
   "execution_count": 15
  },
  {
   "metadata": {
    "ExecuteTime": {
     "end_time": "2024-09-18T15:19:56.784937Z",
     "start_time": "2024-09-18T15:19:56.704899Z"
    }
   },
   "cell_type": "code",
   "source": "main()",
   "id": "ed988a1262b7fe37",
   "outputs": [
    {
     "name": "stdout",
     "output_type": "stream",
     "text": [
      "Starting the optimization\n",
      "Individual: ['↓', 'MK', 'LP', '←', 'HP', '→', 'HK', '↑', 'MP', 'LK'], Fitness: (33100.0,)\n",
      "Individual: ['MK', 'LK', 'HK', '→', 'LP', '←', 'MP', 'HP', '↓', '↑'], Fitness: (31100.0,)\n",
      "Individual: ['LK', '←', '↑', '→', 'LP', 'MK', 'HP', 'HK', '↓', 'MP'], Fitness: (36200.0,)\n",
      "Individual: ['→', 'HK', 'HP', '↑', 'LP', '↓', 'LK', 'MP', '←', 'MK'], Fitness: (37700.0,)\n",
      "Individual: ['MK', 'MP', 'HK', 'HP', '↓', 'LP', '←', '↑', 'LK', '→'], Fitness: (36500.0,)\n",
      "Individual: ['→', '↑', 'MP', 'MK', 'LP', 'HK', '←', 'HP', '↓', 'LK'], Fitness: (37100.0,)\n",
      "Individual: ['HK', 'MK', '↑', '←', '↓', 'MP', 'HP', '→', 'LP', 'LK'], Fitness: (30600.0,)\n",
      "Individual: ['LK', '↓', '→', 'LP', 'HK', '←', 'MK', 'MP', 'HP', '↑'], Fitness: (34900.0,)\n",
      "Individual: ['MK', 'HK', '↓', 'LP', 'LK', '←', 'MP', '↑', '→', 'HP'], Fitness: (32800.0,)\n",
      "Individual: ['→', '←', 'HP', '↑', 'MP', 'LK', '↓', 'MK', 'HK', 'LP'], Fitness: (36600.0,)\n",
      "Individual: ['MK', '→', '←', '↓', 'HP', 'LK', 'MP', 'HK', '↑', 'LP'], Fitness: (35600.0,)\n",
      "Individual: ['MP', 'HK', '↓', '←', '↑', 'LP', '→', 'MK', 'HP', 'LK'], Fitness: (33800.0,)\n",
      "Individual: ['LK', '↑', 'MK', 'HK', 'MP', '↓', 'HP', '←', 'LP', '→'], Fitness: (35100.0,)\n",
      "Individual: ['→', '↓', 'HP', '↑', '←', 'LK', 'MK', 'MP', 'HK', 'LP'], Fitness: (37800.0,)\n",
      "Individual: ['HK', '↓', 'MP', 'HP', 'MK', '→', 'LP', '←', 'LK', '↑'], Fitness: (33100.0,)\n",
      "Individual: ['↑', 'MP', '↓', '←', 'LP', 'LK', 'MK', 'HK', '→', 'HP'], Fitness: (38200.0,)\n",
      "Individual: ['←', 'LK', '→', '↑', 'LP', 'HP', 'HK', 'MP', '↓', 'MK'], Fitness: (35300.0,)\n",
      "Individual: ['LP', '↑', 'MP', '↓', 'MK', 'LK', 'HK', '←', 'HP', '→'], Fitness: (39900.0,)\n",
      "Individual: ['LP', '↓', 'MK', '→', 'MP', 'HP', '↑', 'HK', '←', 'LK'], Fitness: (33400.0,)\n",
      "Individual: ['MK', 'LK', 'HK', '←', 'MP', '→', '↑', '↓', 'HP', 'LP'], Fitness: (30500.0,)\n",
      "Individual: ['HK', '→', '↑', '↓', 'MK', 'HP', 'LP', 'MP', 'LK', '←'], Fitness: (37200.0,)\n",
      "Individual: ['LK', 'LP', '←', '↓', 'HP', 'MK', 'HK', 'MP', '↑', '→'], Fitness: (37700.0,)\n",
      "Individual: ['→', 'MK', 'LP', 'HP', '←', 'HK', 'MP', '↑', 'LK', '↓'], Fitness: (36900.0,)\n",
      "Individual: ['MP', 'LK', '←', '↑', 'LP', '↓', 'MK', '→', 'HP', 'HK'], Fitness: (35700.0,)\n",
      "Individual: ['↓', 'MK', '↑', 'MP', 'LP', 'LK', 'HP', 'HK', '←', '→'], Fitness: (38300.0,)\n",
      "Individual: ['↑', '↓', 'HK', 'MK', 'LK', '→', '←', 'MP', 'HP', 'LP'], Fitness: (34400.0,)\n",
      "Individual: ['MP', 'HP', 'LP', 'MK', '↑', 'LK', 'HK', '↓', '→', '←'], Fitness: (40800.0,)\n",
      "Individual: ['LK', '←', 'MP', 'HK', '↑', 'HP', '→', 'LP', '↓', 'MK'], Fitness: (33100.0,)\n",
      "Individual: ['HP', 'LP', '→', '←', 'HK', '↑', 'LK', 'MP', 'MK', '↓'], Fitness: (35400.0,)\n",
      "Individual: ['MP', '←', '↓', 'HK', 'HP', '↑', '→', 'LP', 'LK', 'MK'], Fitness: (34800.0,)\n",
      "Individual: ['LK', '→', 'HK', 'HP', '←', '↓', 'MK', '↑', 'LP', 'MP'], Fitness: (37000.0,)\n",
      "Individual: ['MK', '↓', '→', 'HP', 'MP', '←', 'LK', 'HK', '↑', 'LP'], Fitness: (33200.0,)\n",
      "Individual: ['HK', '↑', '→', '↓', 'MK', 'HP', '←', 'LK', 'MP', 'LP'], Fitness: (35300.0,)\n",
      "Individual: ['LP', '←', 'HP', 'MK', '↑', 'HK', 'LK', 'MP', '→', '↓'], Fitness: (38800.0,)\n",
      "Individual: ['→', '↑', '↓', 'HK', 'LP', '←', 'LK', 'MP', 'HP', 'MK'], Fitness: (37100.0,)\n",
      "Individual: ['↑', 'MK', '↓', 'HP', '←', 'MP', '→', 'HK', 'LK', 'LP'], Fitness: (32200.0,)\n",
      "Individual: ['↑', 'HK', 'HP', 'MP', '←', 'LK', 'MK', '↓', '→', 'LP'], Fitness: (36300.0,)\n",
      "Individual: ['HP', 'LK', 'MK', 'LP', 'MP', '↑', 'HK', '→', '↓', '←'], Fitness: (35500.0,)\n",
      "Individual: ['↓', '↑', '→', '←', 'MP', 'MK', 'HK', 'HP', 'LP', 'LK'], Fitness: (33100.0,)\n",
      "Individual: ['MK', 'MP', 'HK', 'LK', '←', '→', '↓', 'LP', '↑', 'HP'], Fitness: (33300.0,)\n",
      "Individual: ['MP', 'LP', 'HP', '↑', 'MK', '←', 'LK', 'HK', '→', '↓'], Fitness: (39000.0,)\n",
      "Individual: ['LP', 'MP', '↓', 'LK', 'MK', '↑', 'HK', '←', 'HP', '→'], Fitness: (40200.0,)\n",
      "Individual: ['LK', '↑', 'MP', 'HK', 'MK', 'LP', 'HP', '↓', '→', '←'], Fitness: (36800.0,)\n",
      "Individual: ['HP', '↑', '←', 'HK', 'LP', '→', '↓', 'MK', 'LK', 'MP'], Fitness: (35900.0,)\n",
      "Individual: ['←', 'MP', 'LP', 'HP', '↓', '↑', 'MK', 'HK', 'LK', '→'], Fitness: (40100.0,)\n",
      "Individual: ['HK', '←', 'HP', 'MK', '→', 'LP', 'LK', 'MP', '↓', '↑'], Fitness: (34700.0,)\n",
      "Individual: ['↑', 'HP', '↓', 'MK', 'HK', '←', 'MP', 'LK', 'LP', '→'], Fitness: (38200.0,)\n",
      "Individual: ['HP', 'LK', 'MK', '↓', '↑', '→', 'MP', 'LP', 'HK', '←'], Fitness: (33700.0,)\n",
      "Individual: ['→', 'LK', '↓', 'HP', 'LP', 'MP', '←', 'MK', '↑', 'HK'], Fitness: (35200.0,)\n",
      "Individual: ['LK', 'HK', '←', 'MK', '→', 'LP', '↑', '↓', 'HP', 'MP'], Fitness: (33900.0,)\n",
      "Individual: ['LK', '→', 'MP', '↑', 'LP', 'HK', '↓', 'MK', '←', 'HP'], Fitness: (36700.0,)\n",
      "Individual: ['→', '↑', 'MP', 'MK', '←', 'LK', 'HK', 'LP', 'HP', '↓'], Fitness: (38700.0,)\n",
      "Individual: ['←', 'LP', 'MP', 'LK', '→', '↑', 'MK', '↓', 'HK', 'HP'], Fitness: (35600.0,)\n",
      "Individual: ['HK', 'MP', 'HP', '→', 'LP', '←', '↑', 'MK', '↓', 'LK'], Fitness: (31400.0,)\n",
      "Individual: ['MK', 'MP', '↑', '→', '↓', 'LP', '←', 'LK', 'HP', 'HK'], Fitness: (31800.0,)\n",
      "Individual: ['HK', '←', 'LK', '↑', '↓', '→', 'LP', 'MP', 'HP', 'MK'], Fitness: (32100.0,)\n",
      "Individual: ['MK', 'HP', 'HK', 'MP', '→', '←', '↓', 'LP', 'LK', '↑'], Fitness: (31000.0,)\n",
      "Individual: ['↓', 'MP', '↑', '←', 'LK', 'HP', 'HK', 'MK', '→', 'LP'], Fitness: (38300.0,)\n",
      "Individual: ['→', '←', 'HP', 'MP', 'LK', 'HK', '↓', '↑', 'LP', 'MK'], Fitness: (36900.0,)\n",
      "Individual: ['↓', 'HP', 'HK', 'LK', 'MK', 'LP', '↑', 'MP', '←', '→'], Fitness: (37900.0,)\n",
      "Individual: ['LK', 'LP', '←', '↓', '↑', 'MK', '→', 'MP', 'HK', 'HP'], Fitness: (33500.0,)\n",
      "Individual: ['HK', 'MP', '↑', 'MK', '←', 'LP', 'LK', 'HP', '→', '↓'], Fitness: (36300.0,)\n",
      "Individual: ['LP', 'HK', 'HP', '↓', 'MP', '↑', 'MK', '→', 'LK', '←'], Fitness: (35700.0,)\n",
      "Individual: ['LK', '↓', '←', 'MP', 'HK', '→', 'LP', 'MK', 'HP', '↑'], Fitness: (33300.0,)\n",
      "Individual: ['MK', 'LK', 'LP', '→', '↑', 'MP', '↓', 'HP', '←', 'HK'], Fitness: (31100.0,)\n",
      "Individual: ['↑', 'HP', '←', 'MP', 'LK', 'MK', 'HK', 'LP', '→', '↓'], Fitness: (38200.0,)\n",
      "Individual: ['←', 'MP', '↑', 'HK', '↓', 'LK', 'HP', 'LP', 'MK', '→'], Fitness: (41000.0,)\n",
      "Individual: ['←', '→', 'HP', 'MP', 'LK', 'MK', 'HK', '↑', '↓', 'LP'], Fitness: (38300.0,)\n",
      "Individual: ['←', 'HP', '↑', 'LK', 'MK', 'LP', 'MP', '→', '↓', 'HK'], Fitness: (36300.0,)\n",
      "Individual: ['MK', '↓', 'HK', '↑', 'HP', 'MP', '←', 'LK', 'LP', '→'], Fitness: (35100.0,)\n",
      "Individual: ['HK', '↑', 'MK', 'HP', 'LP', 'MP', '←', 'LK', '↓', '→'], Fitness: (35100.0,)\n",
      "Individual: ['MP', '↓', 'LK', '→', 'LP', '↑', 'HP', 'HK', '←', 'MK'], Fitness: (35400.0,)\n",
      "Individual: ['↓', 'MP', 'MK', '→', 'HK', '←', 'LK', 'LP', 'HP', '↑'], Fitness: (36100.0,)\n",
      "Individual: ['LK', '↑', 'HK', 'MK', '←', '→', 'LP', 'HP', '↓', 'MP'], Fitness: (33300.0,)\n",
      "Individual: ['LP', '←', '→', '↓', 'HK', 'MK', 'HP', 'MP', 'LK', '↑'], Fitness: (36500.0,)\n",
      "Individual: ['MP', '↓', 'MK', '↑', 'HP', 'LP', '←', 'HK', 'LK', '→'], Fitness: (39200.0,)\n",
      "Individual: ['HP', 'MP', '→', '←', 'LP', 'LK', '↓', '↑', 'HK', 'MK'], Fitness: (32400.0,)\n",
      "Individual: ['←', '↑', 'LP', 'MK', 'HK', '↓', 'MP', 'HP', 'LK', '→'], Fitness: (40000.0,)\n",
      "Individual: ['←', 'LK', 'MK', 'HP', '→', 'MP', '↓', '↑', 'LP', 'HK'], Fitness: (33100.0,)\n",
      "Individual: ['HP', '↓', 'MP', 'HK', 'LP', '←', 'MK', '↑', '→', 'LK'], Fitness: (36000.0,)\n",
      "Individual: ['HK', 'MP', 'LK', '←', 'MK', '→', '↑', '↓', 'LP', 'HP'], Fitness: (34000.0,)\n",
      "Individual: ['↑', 'HP', 'MK', 'MP', '↓', '←', 'LK', 'HK', 'LP', '→'], Fitness: (38000.0,)\n",
      "Individual: ['↑', 'HP', 'MP', '→', 'LP', 'MK', '←', 'HK', '↓', 'LK'], Fitness: (32900.0,)\n",
      "Individual: ['LP', 'HK', 'MK', '↑', '→', '←', '↓', 'MP', 'LK', 'HP'], Fitness: (32300.0,)\n",
      "Individual: ['↑', 'LP', '→', '←', 'HK', 'MK', '↓', 'HP', 'LK', 'MP'], Fitness: (37200.0,)\n",
      "Individual: ['LP', '→', 'MK', 'LK', '↓', 'HP', 'MP', '↑', 'HK', '←'], Fitness: (38000.0,)\n",
      "Individual: ['LK', 'HP', 'MK', '←', '↑', 'MP', '↓', 'LP', 'HK', '→'], Fitness: (35100.0,)\n",
      "Individual: ['↑', '↓', 'LK', 'MP', 'HP', '→', 'HK', 'LP', 'MK', '←'], Fitness: (35500.0,)\n",
      "Individual: ['MP', 'MK', '↑', '→', 'HK', '←', 'LK', '↓', 'HP', 'LP'], Fitness: (36300.0,)\n",
      "Individual: ['MP', '←', '↓', 'MK', 'HK', '→', 'LP', '↑', 'HP', 'LK'], Fitness: (35900.0,)\n",
      "Individual: ['→', 'MP', 'HP', 'HK', 'LK', '←', '↓', '↑', 'LP', 'MK'], Fitness: (37300.0,)\n",
      "Individual: ['MP', 'HK', 'HP', 'LK', '↑', 'MK', '↓', '←', '→', 'LP'], Fitness: (38200.0,)\n",
      "Individual: ['↓', '↑', 'HP', 'LP', 'MK', '→', 'HK', 'LK', 'MP', '←'], Fitness: (37700.0,)\n",
      "Individual: ['LP', '↓', 'HP', 'HK', 'LK', '→', 'MK', '←', '↑', 'MP'], Fitness: (37200.0,)\n",
      "Individual: ['↑', '↓', '←', 'HP', '→', 'HK', 'MK', 'LP', 'MP', 'LK'], Fitness: (34600.0,)\n",
      "Individual: ['↓', 'HP', 'LK', '↑', 'HK', 'MK', '→', 'LP', 'MP', '←'], Fitness: (37200.0,)\n",
      "Individual: ['←', 'HP', '→', 'LK', '↑', 'LP', 'MK', 'MP', '↓', 'HK'], Fitness: (36100.0,)\n",
      "Individual: ['HP', '↓', 'MP', 'LK', '←', '→', 'HK', '↑', 'MK', 'LP'], Fitness: (34000.0,)\n",
      "Individual: ['LP', 'HP', 'MK', '→', 'MP', 'LK', '↑', '↓', '←', 'HK'], Fitness: (34200.0,)\n",
      "Individual: ['MK', 'HP', '→', 'LK', 'LP', '↓', '←', '↑', 'HK', 'MP'], Fitness: (35300.0,)\n",
      "IndexError while accessing fitness values: tuple index out of range\n",
      "Population fitness values: [(33300.0,), (36100.0,), (35500.0,), (40200.0,), (), (36300.0,), (36900.0,), (31100.0,), (35700.0,), (36700.0,), (34000.0,), (34800.0,), (38300.0,), (35100.0,), (31000.0,), (32800.0,), (), (33500.0,), (32800.0,), (30500.0,), (31400.0,), (31000.0,), (38200.0,), (36300.0,), (37100.0,), (32800.0,), (33100.0,), (34800.0,), (40100.0,), (35900.0,), (40000.0,), (36800.0,), (34200.0,), (), (31400.0,), (33100.0,), (31400.0,), (35500.0,), (), (31800.0,), (33400.0,), (30500.0,), (31100.0,), (37700.0,), (30600.0,), (), (33100.0,), (34700.0,), (35900.0,), (34200.0,), (33200.0,), (36500.0,), (35200.0,), (34700.0,), (35600.0,), (31100.0,), (32400.0,), (38000.0,), (34200.0,), (40200.0,), (30500.0,), (), (34800.0,), (35300.0,), (37300.0,), (32800.0,), (33100.0,), (39200.0,), (35700.0,), (34400.0,), (37700.0,), (37700.0,), (38200.0,), (35100.0,), (35100.0,), (36900.0,), (32800.0,), (30500.0,), (33100.0,), (31100.0,), (), (), (36300.0,), (35300.0,), (36300.0,), (35400.0,), (36700.0,), (32800.0,), (32100.0,), (), (34000.0,), (34000.0,), (34000.0,), (34400.0,), (), (), (36300.0,), (37200.0,), (33100.0,), (32100.0,)]\n"
     ]
    },
    {
     "ename": "KeyError",
     "evalue": "'↑'",
     "output_type": "error",
     "traceback": [
      "\u001B[1;31m---------------------------------------------------------------------------\u001B[0m",
      "\u001B[1;31mKeyError\u001B[0m                                  Traceback (most recent call last)",
      "Cell \u001B[1;32mIn[16], line 1\u001B[0m\n\u001B[1;32m----> 1\u001B[0m \u001B[43mmain\u001B[49m\u001B[43m(\u001B[49m\u001B[43m)\u001B[49m\n",
      "Cell \u001B[1;32mIn[15], line 37\u001B[0m, in \u001B[0;36mmain\u001B[1;34m()\u001B[0m\n\u001B[0;32m     34\u001B[0m         \u001B[38;5;28;01mdel\u001B[39;00m mutant\u001B[38;5;241m.\u001B[39mfitness\u001B[38;5;241m.\u001B[39mvalues\n\u001B[0;32m     36\u001B[0m \u001B[38;5;66;03m# Evaluate the fitness of individuals with invalid fitness\u001B[39;00m\n\u001B[1;32m---> 37\u001B[0m population \u001B[38;5;241m=\u001B[39m \u001B[43mevaluate_population\u001B[49m\u001B[43m(\u001B[49m\u001B[43mpopulation\u001B[49m\u001B[43m,\u001B[49m\u001B[43m \u001B[49m\u001B[43mtoolbox\u001B[49m\u001B[43m)\u001B[49m\n\u001B[0;32m     38\u001B[0m debug_fitness(population)\n\u001B[0;32m     40\u001B[0m \u001B[38;5;66;03m# Update the population\u001B[39;00m\n",
      "Cell \u001B[1;32mIn[10], line 5\u001B[0m, in \u001B[0;36mevaluate_population\u001B[1;34m(population, toolbox)\u001B[0m\n\u001B[0;32m      3\u001B[0m \u001B[38;5;28;01mfor\u001B[39;00m ind \u001B[38;5;129;01min\u001B[39;00m population:\n\u001B[0;32m      4\u001B[0m     \u001B[38;5;28;01mif\u001B[39;00m \u001B[38;5;129;01mnot\u001B[39;00m ind\u001B[38;5;241m.\u001B[39mfitness\u001B[38;5;241m.\u001B[39mvalid \u001B[38;5;129;01mor\u001B[39;00m \u001B[38;5;28mlen\u001B[39m(ind\u001B[38;5;241m.\u001B[39mfitness\u001B[38;5;241m.\u001B[39mvalues) \u001B[38;5;241m==\u001B[39m \u001B[38;5;241m0\u001B[39m:\n\u001B[1;32m----> 5\u001B[0m         ind\u001B[38;5;241m.\u001B[39mfitness\u001B[38;5;241m.\u001B[39mvalues \u001B[38;5;241m=\u001B[39m \u001B[43mtoolbox\u001B[49m\u001B[38;5;241;43m.\u001B[39;49m\u001B[43mevaluate\u001B[49m\u001B[43m(\u001B[49m\u001B[43mind\u001B[49m\u001B[43m)\u001B[49m\n\u001B[0;32m      6\u001B[0m         \u001B[38;5;28;01mif\u001B[39;00m \u001B[38;5;129;01mnot\u001B[39;00m \u001B[38;5;28misinstance\u001B[39m(ind\u001B[38;5;241m.\u001B[39mfitness\u001B[38;5;241m.\u001B[39mvalues, \u001B[38;5;28mtuple\u001B[39m) \u001B[38;5;129;01mor\u001B[39;00m \u001B[38;5;28mlen\u001B[39m(ind\u001B[38;5;241m.\u001B[39mfitness\u001B[38;5;241m.\u001B[39mvalues) \u001B[38;5;241m==\u001B[39m \u001B[38;5;241m0\u001B[39m:\n\u001B[0;32m      7\u001B[0m             \u001B[38;5;28mprint\u001B[39m(\u001B[38;5;124mf\u001B[39m\u001B[38;5;124m\"\u001B[39m\u001B[38;5;124mWarning: Fitness values for individual \u001B[39m\u001B[38;5;132;01m{\u001B[39;00mind\u001B[38;5;132;01m}\u001B[39;00m\u001B[38;5;124m are invalid or empty\u001B[39m\u001B[38;5;124m\"\u001B[39m)\n",
      "Cell \u001B[1;32mIn[4], line 8\u001B[0m, in \u001B[0;36mcalculate_distance\u001B[1;34m(layout, frequencies)\u001B[0m\n\u001B[0;32m      6\u001B[0m     \u001B[38;5;28;01mfor\u001B[39;00m (letter2, freq2) \u001B[38;5;129;01min\u001B[39;00m frequencies\u001B[38;5;241m.\u001B[39mitems():\n\u001B[0;32m      7\u001B[0m         \u001B[38;5;28;01mif\u001B[39;00m letter1 \u001B[38;5;241m!=\u001B[39m letter2:\n\u001B[1;32m----> 8\u001B[0m             dist \u001B[38;5;241m=\u001B[39m \u001B[38;5;28mabs\u001B[39m(positions[letter1] \u001B[38;5;241m-\u001B[39m \u001B[43mpositions\u001B[49m\u001B[43m[\u001B[49m\u001B[43mletter2\u001B[49m\u001B[43m]\u001B[49m)  \u001B[38;5;66;03m# Linear distance\u001B[39;00m\n\u001B[0;32m      9\u001B[0m             total_distance \u001B[38;5;241m+\u001B[39m\u001B[38;5;241m=\u001B[39m freq1 \u001B[38;5;241m*\u001B[39m freq2 \u001B[38;5;241m*\u001B[39m dist\n\u001B[0;32m     10\u001B[0m \u001B[38;5;28;01mreturn\u001B[39;00m total_distance,\n",
      "\u001B[1;31mKeyError\u001B[0m: '↑'"
     ]
    }
   ],
   "execution_count": 16
  },
  {
   "metadata": {
    "ExecuteTime": {
     "end_time": "2024-09-18T15:19:42.948825Z",
     "start_time": "2024-09-18T15:19:42.948825Z"
    }
   },
   "cell_type": "code",
   "source": "",
   "id": "4155ffbced3f42c5",
   "outputs": [],
   "execution_count": null
  }
 ],
 "metadata": {
  "kernelspec": {
   "display_name": "Python 3",
   "language": "python",
   "name": "python3"
  },
  "language_info": {
   "codemirror_mode": {
    "name": "ipython",
    "version": 2
   },
   "file_extension": ".py",
   "mimetype": "text/x-python",
   "name": "python",
   "nbconvert_exporter": "python",
   "pygments_lexer": "ipython2",
   "version": "2.7.6"
  }
 },
 "nbformat": 4,
 "nbformat_minor": 5
}
